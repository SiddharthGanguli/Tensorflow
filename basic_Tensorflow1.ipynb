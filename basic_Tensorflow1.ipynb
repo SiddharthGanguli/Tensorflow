{
 "cells": [
  {
   "cell_type": "code",
   "execution_count": 32,
   "metadata": {},
   "outputs": [],
   "source": [
    "import tensorflow as tf\n",
    "import numpy as np"
   ]
  },
  {
   "cell_type": "code",
   "execution_count": 33,
   "metadata": {},
   "outputs": [
    {
     "name": "stdout",
     "output_type": "stream",
     "text": [
      "<module 'tensorflow._api.v2.version' from '/Users/siddharthaganguli/Desktop/tensorflow/myenv/lib/python3.9/site-packages/tensorflow/_api/v2/version/__init__.py'>\n"
     ]
    }
   ],
   "source": [
    "# Checking the version of the tensorflow  we will used tensorflow v2 here \n",
    "print(tf.version)"
   ]
  },
  {
   "cell_type": "markdown",
   "metadata": {},
   "source": [
    "**Let's Check some basic things on Tensorflow**"
   ]
  },
  {
   "cell_type": "markdown",
   "metadata": {},
   "source": [
    "Tensorflow = Tensor + Flow "
   ]
  },
  {
   "cell_type": "markdown",
   "metadata": {},
   "source": [
    "Tensor: It Represents a multidimensional array \n",
    "\n",
    "**Each Tensor has a dtype and shape**\n",
    "\n",
    "Data-type(dtype): int8,int16,int32,int64,float16,float32,float64,string etc..\n",
    "\n",
    "Flow: Refers to the graph of operations applied to the tensors. Operations are organized into graph to compute the result "
   ]
  },
  {
   "cell_type": "markdown",
   "metadata": {},
   "source": [
    "**Types of Tensors**<br>\n",
    "**Variable()**<br>\n",
    "**Constant()**<br>\n",
    "**Placeholder()**<br>\n",
    "**SparseTensor()**<br>"
   ]
  },
  {
   "cell_type": "markdown",
   "metadata": {},
   "source": [
    "Properties of tensor: \n",
    "\n",
    "1: A unique name {in default the framework continuously generate some unique name for every tensor}\n",
    "\n",
    "2: A dimension\n",
    "\n",
    "3: a data type "
   ]
  },
  {
   "cell_type": "code",
   "execution_count": 11,
   "metadata": {},
   "outputs": [
    {
     "name": "stdout",
     "output_type": "stream",
     "text": [
      "tf.Tensor(3.1415, shape=(), dtype=float64)\n",
      "tf.Tensor([b'Rik'], shape=(1,), dtype=string)\n"
     ]
    }
   ],
   "source": [
    "# Constant Tensor : This represents a constant ot immutable value that cannot be changed \n",
    "# tf.constant(value , dtype, name=\"\")\n",
    "pi=tf.constant(3.1415,dtype='float64',name='pi_value')\n",
    "\n",
    "# also we can define the datatype like this way\n",
    "pi=tf.constant(3.1415,tf.float64)\n",
    "\n",
    "print(pi)\n",
    "\n",
    "# We can also use for string, int or any other datatype \n",
    "name=tf.constant(\"Rik Ganguli\",name='My_Name')\n",
    "name=tf.constant([\"Rik\"],tf.string)\n",
    "print(name)"
   ]
  },
  {
   "cell_type": "markdown",
   "metadata": {},
   "source": [
    "**Rank And Degree of a Tensor**"
   ]
  },
  {
   "cell_type": "code",
   "execution_count": 13,
   "metadata": {},
   "outputs": [
    {
     "name": "stdout",
     "output_type": "stream",
     "text": [
      "the rank of rank1_Tensor is 1\n",
      "the rank of rank2_Tensor is 2\n"
     ]
    }
   ],
   "source": [
    "rank1_Tensor=tf.Variable(['Test'],tf.string)\n",
    "rank2_Tensor=tf.Variable([['Apple','Mango'],['Banana','Grapes']])\n",
    "\n",
    "print(f\"the rank of rank1_Tensor is {tf.rank(rank1_Tensor)}\")\n",
    "print(f\"the rank of rank2_Tensor is {tf.rank(rank2_Tensor)}\")"
   ]
  },
  {
   "cell_type": "markdown",
   "metadata": {},
   "source": [
    "**Shape of Tensor** :\n",
    "The shape of a tensor is simply the number of elements that exist in each dimension."
   ]
  },
  {
   "cell_type": "code",
   "execution_count": 15,
   "metadata": {},
   "outputs": [
    {
     "data": {
      "text/plain": [
       "TensorShape([2, 2])"
      ]
     },
     "execution_count": 15,
     "metadata": {},
     "output_type": "execute_result"
    }
   ],
   "source": [
    "rank2_Tensor.shape"
   ]
  },
  {
   "cell_type": "markdown",
   "metadata": {},
   "source": [
    "The first number (2) represents the number of rows\n",
    "\n",
    "The second number (2) represents the number of elements in each row (columns)\n",
    "\n",
    "**[  ['Apple', 'Mango'],**<br> \n",
    "  **['Banana', 'Grapes']**\n",
    "**]**"
   ]
  },
  {
   "cell_type": "markdown",
   "metadata": {},
   "source": [
    "Try to Changing  the Shape of the Tensor"
   ]
  },
  {
   "cell_type": "code",
   "execution_count": 31,
   "metadata": {},
   "outputs": [
    {
     "name": "stdout",
     "output_type": "stream",
     "text": [
      "tf.Tensor(\n",
      "[[[1 1 1]\n",
      "  [1 1 1]]], shape=(1, 2, 3), dtype=int32)\n"
     ]
    }
   ],
   "source": [
    "tensor1=tf.ones([1,2,3],tf.int32)\n",
    "print(tensor1)"
   ]
  },
  {
   "cell_type": "markdown",
   "metadata": {},
   "source": [
    "1: The tensor has 1 \"block\" or set of matrices. This means there is a single 3D array.<br>\n",
    "2: Each block has 2 rows.<br>\n",
    "3: Each row has 3 elements.<br>"
   ]
  },
  {
   "cell_type": "markdown",
   "metadata": {},
   "source": [
    "Note::<br>\n",
    "The number of values stored in a tensor is the product of the dimensions of its shape. If the shape is [a, b, c], the total number of values is:<br>\n",
    "&nbsp;&nbsp;&nbsp;&nbsp;&nbsp;&nbsp;&nbsp;&nbsp;&nbsp;&nbsp;&nbsp;&nbsp;&nbsp;&nbsp;&nbsp;&nbsp;&nbsp;&nbsp;&nbsp;&nbsp;&nbsp;&nbsp;&nbsp;&nbsp;&nbsp;&nbsp;&nbsp;&nbsp;&nbsp;&nbsp;&nbsp;&nbsp;&nbsp;&nbsp;&nbsp;&nbsp;&nbsp;&nbsp;&nbsp;&nbsp;&nbsp;&nbsp;&nbsp;&nbsp;&nbsp;&nbsp;&nbsp;&nbsp;&nbsp;&nbsp;&nbsp;&nbsp;&nbsp;&nbsp;&nbsp;&nbsp;&nbsp;&nbsp;&nbsp;&nbsp;&nbsp;&nbsp;&nbsp;&nbsp;&nbsp;&nbsp;&nbsp;&nbsp;&nbsp;&nbsp;&nbsp;&nbsp;&nbsp;&nbsp;&nbsp;&nbsp;&nbsp;&nbsp;&nbsp;&nbsp;&nbsp;&nbsp;&nbsp;a × b × c {suppose for this example having [1,2,3]shape so 1x2x3=6 value makimum store }\n"
   ]
  },
  {
   "cell_type": "code",
   "execution_count": 35,
   "metadata": {},
   "outputs": [
    {
     "name": "stdout",
     "output_type": "stream",
     "text": [
      "tf.Tensor(\n",
      "[[[1]\n",
      "  [1]\n",
      "  [1]]\n",
      "\n",
      " [[1]\n",
      "  [1]\n",
      "  [1]]], shape=(2, 3, 1), dtype=int32)\n"
     ]
    }
   ],
   "source": [
    "tensor2=tf.reshape(tensor1,[2,3,1],tf.int32)\n",
    "print(tensor2)"
   ]
  },
  {
   "cell_type": "code",
   "execution_count": 30,
   "metadata": {},
   "outputs": [
    {
     "name": "stdout",
     "output_type": "stream",
     "text": [
      "tf.Tensor(\n",
      "[[1. 1.]\n",
      " [1. 1.]\n",
      " [1. 1.]], shape=(3, 2), dtype=float32)\n",
      "tf.Tensor(\n",
      "[[1. 1.]\n",
      " [1. 1.]\n",
      " [1. 1.]], shape=(3, 2), dtype=float32)\n"
     ]
    }
   ],
   "source": [
    "tensor3=tf.reshape(tensor1,[3,-1])\n",
    "tensor4=tf.reshape(tensor2,[3,-1])\n",
    "print(tensor3)\n",
    "print(tensor4)"
   ]
  },
  {
   "cell_type": "markdown",
   "metadata": {},
   "source": [
    "**Explanation of [3, -1]** <br>\n",
    "3: This specifies that the reshaped tensor should have 3 rows.<br>\n",
    "-1: This is a special value in TensorFlow (and also in NumPy) that tells TensorFlow to automatically calculate the size of that dimension based on the total number of elements<br>\n",
    "[TensorFlow will determine how many columns are needed]\n",
    "\n",
    "Total elements=rows×columns<br>\n",
    "6=3×c [6 meaning we know tenor2 having maximum 6 value storing capacity]"
   ]
  },
  {
   "cell_type": "markdown",
   "metadata": {},
   "source": [
    "**CALCULATION** ::\n",
    "Original tensor (tensor1) had the shape [1, 2, 3], which stored 6 values (calculated as 1×2×3=6) <br>\n",
    "Reshaped tensor (tensor2) has the new shape [2, 3, 1]. To calculate the total number of values in this reshaped tensor: Total values=2×3×1=6"
   ]
  },
  {
   "cell_type": "markdown",
   "metadata": {},
   "source": [
    "To find out how many columns (c) are needed, you can use the formula:<br>Total elements=rows×columns6=3×𝑐\n",
    "<br>Total elements=rows×columns\n",
    "6=3×c<br>\n",
    "c=6/3=2<br>\n",
    "So the shape will be [3, 2], meaning it has 3 rows and 2 columns\n"
   ]
  },
  {
   "cell_type": "markdown",
   "metadata": {},
   "source": [
    "Suppose we have a tensor with 7 elements and you want to reshape it to have 3 rows\n",
    "so now how to calculate it \n"
   ]
  },
  {
   "cell_type": "code",
   "execution_count": 38,
   "metadata": {},
   "outputs": [
    {
     "name": "stdout",
     "output_type": "stream",
     "text": [
      "tf.Tensor([1 2 3 4 5 6 7 0 0], shape=(9,), dtype=int32)\n"
     ]
    }
   ],
   "source": [
    "tensor = tf.Variable([1, 2, 3, 4, 5, 6, 7])  # Original tensor with 7 elements\n",
    "padded_tensor = tf.pad(tensor, [[0, 2]], constant_values=0) #adding two zeroes for calculation now the shape is 9\n",
    "print(padded_tensor)"
   ]
  },
  {
   "cell_type": "markdown",
   "metadata": {},
   "source": [
    "9=3×c <br>\n",
    "⟹c= 3/9=3"
   ]
  },
  {
   "cell_type": "markdown",
   "metadata": {},
   "source": [
    "**Slicing Tensors**"
   ]
  },
  {
   "cell_type": "code",
   "execution_count": 44,
   "metadata": {},
   "outputs": [
    {
     "name": "stdout",
     "output_type": "stream",
     "text": [
      "<tf.Variable 'Variable:0' shape=(4, 5) dtype=int32, numpy=\n",
      "array([[ 1,  2,  3,  4,  5],\n",
      "       [ 6,  7,  8,  9, 10],\n",
      "       [11, 12, 13, 14, 15],\n",
      "       [16, 17, 18, 19, 20]], dtype=int32)>\n",
      "Rank of this tensor is 2\n"
     ]
    }
   ],
   "source": [
    "# Creating a 2D tensor\n",
    "matrix = [[1,2,3,4,5],\n",
    "          [6,7,8,9,10],\n",
    "          [11,12,13,14,15],\n",
    "          [16,17,18,19,20]]\n",
    "\n",
    "# creating tensor of it \n",
    "matrix_tensor=tf.Variable(matrix,tf.int32)\n",
    "print(matrix_tensor)\n",
    "print(f\"Rank of this tensor is {tf.rank(matrix_tensor)}\")"
   ]
  },
  {
   "cell_type": "code",
   "execution_count": 51,
   "metadata": {},
   "outputs": [
    {
     "name": "stdout",
     "output_type": "stream",
     "text": [
      "Printing the first two row  of this matrix_tensor is [[ 1  2  3  4  5]\n",
      " [ 6  7  8  9 10]]\n",
      "Third element of this matrix_tensor is 2\n"
     ]
    }
   ],
   "source": [
    "# Now lets select some different rows and columns from our tensor\n",
    "\n",
    "# Accessing a Single Element\n",
    "# Syntax: tensor[row, col]\n",
    "#  Access the element in the 1st row and 2nd column (0-based index)\n",
    "third_element=matrix_tensor[0, 1]\n",
    "print(f\"Third element of this matrix_tensor is {third_element}\")"
   ]
  },
  {
   "cell_type": "code",
   "execution_count": 59,
   "metadata": {},
   "outputs": [
    {
     "name": "stdout",
     "output_type": "stream",
     "text": [
      "Printing the 2nd row of this matrix_tensor is [ 6  7  8  9 10]\n"
     ]
    }
   ],
   "source": [
    "# Accessing a Row:\n",
    "# Syntax: tensor[row_index, :]\n",
    "row = matrix_tensor[1,:]\n",
    "print(f\"Printing the 2nd row of this matrix_tensor is {row}\")"
   ]
  },
  {
   "cell_type": "code",
   "execution_count": 57,
   "metadata": {},
   "outputs": [
    {
     "name": "stdout",
     "output_type": "stream",
     "text": [
      "tf.Tensor([ 3  8 13 18], shape=(4,), dtype=int32)\n"
     ]
    }
   ],
   "source": [
    "# Accessing a Column\n",
    "# Syntax: tensor[:, col_index]\n",
    "col = matrix_tensor[:, 2]  # Output: [3, 8, 13, 18]\n",
    "print(col)\n"
   ]
  },
  {
   "cell_type": "code",
   "execution_count": 58,
   "metadata": {},
   "outputs": [
    {
     "name": "stdout",
     "output_type": "stream",
     "text": [
      "tf.Tensor(\n",
      "[[ 8  9 10]\n",
      " [13 14 15]], shape=(2, 3), dtype=int32)\n"
     ]
    }
   ],
   "source": [
    "# Accessing a Submatrix (Slicing)\n",
    "# Syntax: tensor[start_row:end_row, start_col:end_col]\n",
    "submatrix = matrix_tensor[1:3, 2:5] \n",
    "print(submatrix)"
   ]
  },
  {
   "cell_type": "code",
   "execution_count": 61,
   "metadata": {},
   "outputs": [
    {
     "name": "stdout",
     "output_type": "stream",
     "text": [
      "tf.Tensor(\n",
      "[[11 12 13 14 15]\n",
      " [16 17 18 19 20]], shape=(2, 5), dtype=int32)\n"
     ]
    }
   ],
   "source": [
    "# Accessing a Range of Rows\n",
    "# Syntax: tensor[start_row:end_row, :]\n",
    "rows = matrix_tensor[2:4, :]  # Output: [[11, 12, 13, 14, 15], [16, 17, 18, 19, 20]]\n",
    "print(rows)"
   ]
  },
  {
   "cell_type": "code",
   "execution_count": 63,
   "metadata": {},
   "outputs": [
    {
     "name": "stdout",
     "output_type": "stream",
     "text": [
      "tf.Tensor(\n",
      "[[ 2  3  4]\n",
      " [ 7  8  9]\n",
      " [12 13 14]\n",
      " [17 18 19]], shape=(4, 3), dtype=int32)\n"
     ]
    }
   ],
   "source": [
    "# Accessing a Range of Columns:\n",
    "# Syntax: tensor[:, start_col:end_col]\n",
    "cols = matrix_tensor[:, 1:4]  # Output: [[2, 3, 4], [7, 8, 9], [12, 13, 14], [17, 18, 19]]\n",
    "print(cols)"
   ]
  },
  {
   "cell_type": "markdown",
   "metadata": {},
   "source": [
    "***Using Negative Indices:***"
   ]
  },
  {
   "cell_type": "code",
   "execution_count": 64,
   "metadata": {},
   "outputs": [
    {
     "name": "stdout",
     "output_type": "stream",
     "text": [
      "tf.Tensor([16 17 18 19 20], shape=(5,), dtype=int32)\n"
     ]
    }
   ],
   "source": [
    "# Negative indices count from the end of the matrix.\n",
    "# Example: Access the last row\n",
    "last_row = matrix_tensor[-1, :]  # Output: [16, 17, 18, 19, 20]\n",
    "print(last_row)"
   ]
  },
  {
   "cell_type": "code",
   "execution_count": 65,
   "metadata": {},
   "outputs": [
    {
     "name": "stdout",
     "output_type": "stream",
     "text": [
      "tf.Tensor(\n",
      "[[ 1  2  3  4  5]\n",
      " [11 12 13 14 15]], shape=(2, 5), dtype=int32)\n"
     ]
    }
   ],
   "source": [
    "# Step Slicing:\n",
    "# Syntax: tensor[start:end:step]\n",
    "every_second_row = matrix_tensor[::2, :]  # Output: [[1, 2, 3, 4, 5], [11, 12, 13, 14, 15]]\n",
    "print(every_second_row)"
   ]
  },
  {
   "cell_type": "markdown",
   "metadata": {},
   "source": [
    "**Accessing Specific Rows and Columns:**"
   ]
  },
  {
   "cell_type": "code",
   "execution_count": null,
   "metadata": {},
   "outputs": [],
   "source": [
    "# You can also specify lists of indices.\n",
    "# Syntax: tensor[[row_indices], [col_indices]]\n",
    "specific_elements = matrix_tensor[[0, 2, 3], [1, 3, 0]]  # Output: [2, 14, 16]\n"
   ]
  },
  {
   "cell_type": "markdown",
   "metadata": {},
   "source": [
    "**Boolean Indexing:**"
   ]
  },
  {
   "cell_type": "code",
   "execution_count": 66,
   "metadata": {},
   "outputs": [
    {
     "name": "stdout",
     "output_type": "stream",
     "text": [
      "tf.Tensor([11 12 13 14 15 16 17 18 19 20], shape=(10,), dtype=int32)\n"
     ]
    }
   ],
   "source": [
    "# we can slice using a condition.\n",
    "bool_mask = matrix_tensor > 10\n",
    "greater_than_10 = tf.boolean_mask(matrix_tensor, bool_mask) \n",
    "print(greater_than_10)"
   ]
  },
  {
   "cell_type": "markdown",
   "metadata": {},
   "source": [
    "***Summary of Slicing Techniques*** <br>\n",
    "**Access a single element:**&nbsp;&nbsp;matrix_tensor[row, col]<br>\n",
    "**Access a row:** &nbsp;&nbsp;matrix_tensor[row_index, :]<br>\n",
    "**Access a column:** &nbsp;&nbsp;matrix_tensor[:, col_index]<br>\n",
    "**Access a submatrix:** &nbsp;&nbsp;matrix_tensor[start_row:end_row, start_col:end_col]<br>\n",
    "**Access rows:** &nbsp;&nbsp;matrix_tensor[start_row:end_row, :]<br>\n",
    "**Access columns:** &nbsp;&nbsp;matrix_tensor[:, start_col:end_col]<br>\n",
    "**Negative indices:** &nbsp;&nbsp;matrix_tensor[-1, :]<br>\n",
    "**Step slicing:** &nbsp;&nbsp;matrix_tensor[::2, :]<br>\n",
    "**Specific rows and columns:** &nbsp;&nbsp;matrix_tensor[[row_indices], [col_indices]]<br>\n",
    "**Boolean indexing:** &nbsp;&nbsp;tf.boolean_mask(matrix_tensor, bool_mask)<br>"
   ]
  },
  {
   "cell_type": "code",
   "execution_count": null,
   "metadata": {},
   "outputs": [],
   "source": []
  }
 ],
 "metadata": {
  "kernelspec": {
   "display_name": "myenv",
   "language": "python",
   "name": "python3"
  },
  "language_info": {
   "codemirror_mode": {
    "name": "ipython",
    "version": 3
   },
   "file_extension": ".py",
   "mimetype": "text/x-python",
   "name": "python",
   "nbconvert_exporter": "python",
   "pygments_lexer": "ipython3",
   "version": "3.9.6"
  }
 },
 "nbformat": 4,
 "nbformat_minor": 2
}
